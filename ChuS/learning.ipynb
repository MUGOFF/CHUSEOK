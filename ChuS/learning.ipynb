{
 "cells": [
  {
   "cell_type": "code",
   "execution_count": 1,
   "id": "38b11712",
   "metadata": {},
   "outputs": [],
   "source": [
    "import pandas as pd\n",
    "import numpy as np\n",
    "import scipy.stats as spst\n",
    "\n",
    "from sklearn.preprocessing import MinMaxScaler\n",
    "from sklearn.model_selection import train_test_split\n",
    "from sklearn.metrics import *\n",
    "\n",
    "from sklearn.ensemble import RandomForestRegressor\n",
    "from sklearn.svm import SVR\n",
    "from xgboost import XGBRegressor\n",
    "\n",
    "from sklearn.model_selection import GridSearchCV"
   ]
  },
  {
   "cell_type": "code",
   "execution_count": 2,
   "id": "bb1ead59",
   "metadata": {},
   "outputs": [],
   "source": [
    "path = 'final_raw_data.csv'\n",
    "data = pd.read_csv(path)"
   ]
  },
  {
   "cell_type": "code",
   "execution_count": 3,
   "id": "9c7bd67e",
   "metadata": {},
   "outputs": [
    {
     "data": {
      "text/html": [
       "<div>\n",
       "<style scoped>\n",
       "    .dataframe tbody tr th:only-of-type {\n",
       "        vertical-align: middle;\n",
       "    }\n",
       "\n",
       "    .dataframe tbody tr th {\n",
       "        vertical-align: top;\n",
       "    }\n",
       "\n",
       "    .dataframe thead th {\n",
       "        text-align: right;\n",
       "    }\n",
       "</style>\n",
       "<table border=\"1\" class=\"dataframe\">\n",
       "  <thead>\n",
       "    <tr style=\"text-align: right;\">\n",
       "      <th></th>\n",
       "      <th>집계시</th>\n",
       "      <th>출발영업소코드</th>\n",
       "      <th>도착영업소코드</th>\n",
       "      <th>통행시간</th>\n",
       "      <th>요일</th>\n",
       "      <th>arrive_traffic</th>\n",
       "      <th>rain-1</th>\n",
       "    </tr>\n",
       "  </thead>\n",
       "  <tbody>\n",
       "    <tr>\n",
       "      <th>0</th>\n",
       "      <td>15</td>\n",
       "      <td>101</td>\n",
       "      <td>140</td>\n",
       "      <td>24238</td>\n",
       "      <td>4</td>\n",
       "      <td>125</td>\n",
       "      <td>0</td>\n",
       "    </tr>\n",
       "    <tr>\n",
       "      <th>1</th>\n",
       "      <td>8</td>\n",
       "      <td>101</td>\n",
       "      <td>140</td>\n",
       "      <td>22762</td>\n",
       "      <td>4</td>\n",
       "      <td>125</td>\n",
       "      <td>0</td>\n",
       "    </tr>\n",
       "    <tr>\n",
       "      <th>2</th>\n",
       "      <td>7</td>\n",
       "      <td>101</td>\n",
       "      <td>140</td>\n",
       "      <td>23867</td>\n",
       "      <td>4</td>\n",
       "      <td>125</td>\n",
       "      <td>0</td>\n",
       "    </tr>\n",
       "    <tr>\n",
       "      <th>3</th>\n",
       "      <td>18</td>\n",
       "      <td>101</td>\n",
       "      <td>140</td>\n",
       "      <td>23196</td>\n",
       "      <td>4</td>\n",
       "      <td>125</td>\n",
       "      <td>0</td>\n",
       "    </tr>\n",
       "    <tr>\n",
       "      <th>4</th>\n",
       "      <td>7</td>\n",
       "      <td>101</td>\n",
       "      <td>140</td>\n",
       "      <td>23654</td>\n",
       "      <td>4</td>\n",
       "      <td>125</td>\n",
       "      <td>0</td>\n",
       "    </tr>\n",
       "  </tbody>\n",
       "</table>\n",
       "</div>"
      ],
      "text/plain": [
       "   집계시  출발영업소코드  도착영업소코드   통행시간  요일  arrive_traffic  rain-1\n",
       "0   15      101      140  24238   4             125       0\n",
       "1    8      101      140  22762   4             125       0\n",
       "2    7      101      140  23867   4             125       0\n",
       "3   18      101      140  23196   4             125       0\n",
       "4    7      101      140  23654   4             125       0"
      ]
     },
     "execution_count": 3,
     "metadata": {},
     "output_type": "execute_result"
    }
   ],
   "source": [
    "data.head()"
   ]
  },
  {
   "cell_type": "code",
   "execution_count": 4,
   "id": "ebfda10f",
   "metadata": {},
   "outputs": [],
   "source": [
    "data.drop(columns=['출발영업소코드','도착영업소코드'],inplace=True)"
   ]
  },
  {
   "cell_type": "code",
   "execution_count": 5,
   "id": "571e6b2a",
   "metadata": {},
   "outputs": [
    {
     "data": {
      "text/html": [
       "<div>\n",
       "<style scoped>\n",
       "    .dataframe tbody tr th:only-of-type {\n",
       "        vertical-align: middle;\n",
       "    }\n",
       "\n",
       "    .dataframe tbody tr th {\n",
       "        vertical-align: top;\n",
       "    }\n",
       "\n",
       "    .dataframe thead th {\n",
       "        text-align: right;\n",
       "    }\n",
       "</style>\n",
       "<table border=\"1\" class=\"dataframe\">\n",
       "  <thead>\n",
       "    <tr style=\"text-align: right;\">\n",
       "      <th></th>\n",
       "      <th>집계시</th>\n",
       "      <th>통행시간</th>\n",
       "      <th>요일</th>\n",
       "      <th>arrive_traffic</th>\n",
       "      <th>rain-1</th>\n",
       "    </tr>\n",
       "  </thead>\n",
       "  <tbody>\n",
       "    <tr>\n",
       "      <th>0</th>\n",
       "      <td>15</td>\n",
       "      <td>24238</td>\n",
       "      <td>4</td>\n",
       "      <td>125</td>\n",
       "      <td>0</td>\n",
       "    </tr>\n",
       "    <tr>\n",
       "      <th>1</th>\n",
       "      <td>8</td>\n",
       "      <td>22762</td>\n",
       "      <td>4</td>\n",
       "      <td>125</td>\n",
       "      <td>0</td>\n",
       "    </tr>\n",
       "    <tr>\n",
       "      <th>2</th>\n",
       "      <td>7</td>\n",
       "      <td>23867</td>\n",
       "      <td>4</td>\n",
       "      <td>125</td>\n",
       "      <td>0</td>\n",
       "    </tr>\n",
       "    <tr>\n",
       "      <th>3</th>\n",
       "      <td>18</td>\n",
       "      <td>23196</td>\n",
       "      <td>4</td>\n",
       "      <td>125</td>\n",
       "      <td>0</td>\n",
       "    </tr>\n",
       "    <tr>\n",
       "      <th>4</th>\n",
       "      <td>7</td>\n",
       "      <td>23654</td>\n",
       "      <td>4</td>\n",
       "      <td>125</td>\n",
       "      <td>0</td>\n",
       "    </tr>\n",
       "  </tbody>\n",
       "</table>\n",
       "</div>"
      ],
      "text/plain": [
       "   집계시   통행시간  요일  arrive_traffic  rain-1\n",
       "0   15  24238   4             125       0\n",
       "1    8  22762   4             125       0\n",
       "2    7  23867   4             125       0\n",
       "3   18  23196   4             125       0\n",
       "4    7  23654   4             125       0"
      ]
     },
     "execution_count": 5,
     "metadata": {},
     "output_type": "execute_result"
    }
   ],
   "source": [
    "data.head()"
   ]
  },
  {
   "cell_type": "code",
   "execution_count": 6,
   "id": "bcb6b859",
   "metadata": {},
   "outputs": [],
   "source": [
    "data.columns=['time','timecost','weekday','arrive_traffic','rain-1']"
   ]
  },
  {
   "cell_type": "code",
   "execution_count": 7,
   "id": "aed347fd",
   "metadata": {},
   "outputs": [
    {
     "data": {
      "text/html": [
       "<div>\n",
       "<style scoped>\n",
       "    .dataframe tbody tr th:only-of-type {\n",
       "        vertical-align: middle;\n",
       "    }\n",
       "\n",
       "    .dataframe tbody tr th {\n",
       "        vertical-align: top;\n",
       "    }\n",
       "\n",
       "    .dataframe thead th {\n",
       "        text-align: right;\n",
       "    }\n",
       "</style>\n",
       "<table border=\"1\" class=\"dataframe\">\n",
       "  <thead>\n",
       "    <tr style=\"text-align: right;\">\n",
       "      <th></th>\n",
       "      <th>time</th>\n",
       "      <th>timecost</th>\n",
       "      <th>weekday</th>\n",
       "      <th>arrive_traffic</th>\n",
       "      <th>rain-1</th>\n",
       "    </tr>\n",
       "  </thead>\n",
       "  <tbody>\n",
       "    <tr>\n",
       "      <th>0</th>\n",
       "      <td>15</td>\n",
       "      <td>24238</td>\n",
       "      <td>4</td>\n",
       "      <td>125</td>\n",
       "      <td>0</td>\n",
       "    </tr>\n",
       "    <tr>\n",
       "      <th>1</th>\n",
       "      <td>8</td>\n",
       "      <td>22762</td>\n",
       "      <td>4</td>\n",
       "      <td>125</td>\n",
       "      <td>0</td>\n",
       "    </tr>\n",
       "    <tr>\n",
       "      <th>2</th>\n",
       "      <td>7</td>\n",
       "      <td>23867</td>\n",
       "      <td>4</td>\n",
       "      <td>125</td>\n",
       "      <td>0</td>\n",
       "    </tr>\n",
       "    <tr>\n",
       "      <th>3</th>\n",
       "      <td>18</td>\n",
       "      <td>23196</td>\n",
       "      <td>4</td>\n",
       "      <td>125</td>\n",
       "      <td>0</td>\n",
       "    </tr>\n",
       "    <tr>\n",
       "      <th>4</th>\n",
       "      <td>7</td>\n",
       "      <td>23654</td>\n",
       "      <td>4</td>\n",
       "      <td>125</td>\n",
       "      <td>0</td>\n",
       "    </tr>\n",
       "  </tbody>\n",
       "</table>\n",
       "</div>"
      ],
      "text/plain": [
       "   time  timecost  weekday  arrive_traffic  rain-1\n",
       "0    15     24238        4             125       0\n",
       "1     8     22762        4             125       0\n",
       "2     7     23867        4             125       0\n",
       "3    18     23196        4             125       0\n",
       "4     7     23654        4             125       0"
      ]
     },
     "execution_count": 7,
     "metadata": {},
     "output_type": "execute_result"
    }
   ],
   "source": [
    "data.head()"
   ]
  },
  {
   "cell_type": "code",
   "execution_count": 8,
   "id": "67990138",
   "metadata": {},
   "outputs": [],
   "source": [
    "data2 = pd.get_dummies(data,columns=['weekday','time'],drop_first=True)"
   ]
  },
  {
   "cell_type": "code",
   "execution_count": 9,
   "id": "96b7694a",
   "metadata": {},
   "outputs": [],
   "source": [
    "target='timecost'"
   ]
  },
  {
   "cell_type": "code",
   "execution_count": 10,
   "id": "2ef53785",
   "metadata": {},
   "outputs": [
    {
     "data": {
      "text/html": [
       "<div>\n",
       "<style scoped>\n",
       "    .dataframe tbody tr th:only-of-type {\n",
       "        vertical-align: middle;\n",
       "    }\n",
       "\n",
       "    .dataframe tbody tr th {\n",
       "        vertical-align: top;\n",
       "    }\n",
       "\n",
       "    .dataframe thead th {\n",
       "        text-align: right;\n",
       "    }\n",
       "</style>\n",
       "<table border=\"1\" class=\"dataframe\">\n",
       "  <thead>\n",
       "    <tr style=\"text-align: right;\">\n",
       "      <th></th>\n",
       "      <th>timecost</th>\n",
       "      <th>arrive_traffic</th>\n",
       "      <th>rain-1</th>\n",
       "      <th>weekday_1</th>\n",
       "      <th>weekday_2</th>\n",
       "      <th>weekday_3</th>\n",
       "      <th>weekday_4</th>\n",
       "      <th>weekday_6</th>\n",
       "      <th>time_1</th>\n",
       "      <th>time_2</th>\n",
       "      <th>...</th>\n",
       "      <th>time_14</th>\n",
       "      <th>time_15</th>\n",
       "      <th>time_16</th>\n",
       "      <th>time_17</th>\n",
       "      <th>time_18</th>\n",
       "      <th>time_19</th>\n",
       "      <th>time_20</th>\n",
       "      <th>time_21</th>\n",
       "      <th>time_22</th>\n",
       "      <th>time_23</th>\n",
       "    </tr>\n",
       "  </thead>\n",
       "  <tbody>\n",
       "    <tr>\n",
       "      <th>0</th>\n",
       "      <td>24238</td>\n",
       "      <td>125</td>\n",
       "      <td>0</td>\n",
       "      <td>0</td>\n",
       "      <td>0</td>\n",
       "      <td>0</td>\n",
       "      <td>1</td>\n",
       "      <td>0</td>\n",
       "      <td>0</td>\n",
       "      <td>0</td>\n",
       "      <td>...</td>\n",
       "      <td>0</td>\n",
       "      <td>1</td>\n",
       "      <td>0</td>\n",
       "      <td>0</td>\n",
       "      <td>0</td>\n",
       "      <td>0</td>\n",
       "      <td>0</td>\n",
       "      <td>0</td>\n",
       "      <td>0</td>\n",
       "      <td>0</td>\n",
       "    </tr>\n",
       "    <tr>\n",
       "      <th>1</th>\n",
       "      <td>22762</td>\n",
       "      <td>125</td>\n",
       "      <td>0</td>\n",
       "      <td>0</td>\n",
       "      <td>0</td>\n",
       "      <td>0</td>\n",
       "      <td>1</td>\n",
       "      <td>0</td>\n",
       "      <td>0</td>\n",
       "      <td>0</td>\n",
       "      <td>...</td>\n",
       "      <td>0</td>\n",
       "      <td>0</td>\n",
       "      <td>0</td>\n",
       "      <td>0</td>\n",
       "      <td>0</td>\n",
       "      <td>0</td>\n",
       "      <td>0</td>\n",
       "      <td>0</td>\n",
       "      <td>0</td>\n",
       "      <td>0</td>\n",
       "    </tr>\n",
       "    <tr>\n",
       "      <th>2</th>\n",
       "      <td>23867</td>\n",
       "      <td>125</td>\n",
       "      <td>0</td>\n",
       "      <td>0</td>\n",
       "      <td>0</td>\n",
       "      <td>0</td>\n",
       "      <td>1</td>\n",
       "      <td>0</td>\n",
       "      <td>0</td>\n",
       "      <td>0</td>\n",
       "      <td>...</td>\n",
       "      <td>0</td>\n",
       "      <td>0</td>\n",
       "      <td>0</td>\n",
       "      <td>0</td>\n",
       "      <td>0</td>\n",
       "      <td>0</td>\n",
       "      <td>0</td>\n",
       "      <td>0</td>\n",
       "      <td>0</td>\n",
       "      <td>0</td>\n",
       "    </tr>\n",
       "    <tr>\n",
       "      <th>3</th>\n",
       "      <td>23196</td>\n",
       "      <td>125</td>\n",
       "      <td>0</td>\n",
       "      <td>0</td>\n",
       "      <td>0</td>\n",
       "      <td>0</td>\n",
       "      <td>1</td>\n",
       "      <td>0</td>\n",
       "      <td>0</td>\n",
       "      <td>0</td>\n",
       "      <td>...</td>\n",
       "      <td>0</td>\n",
       "      <td>0</td>\n",
       "      <td>0</td>\n",
       "      <td>0</td>\n",
       "      <td>1</td>\n",
       "      <td>0</td>\n",
       "      <td>0</td>\n",
       "      <td>0</td>\n",
       "      <td>0</td>\n",
       "      <td>0</td>\n",
       "    </tr>\n",
       "    <tr>\n",
       "      <th>4</th>\n",
       "      <td>23654</td>\n",
       "      <td>125</td>\n",
       "      <td>0</td>\n",
       "      <td>0</td>\n",
       "      <td>0</td>\n",
       "      <td>0</td>\n",
       "      <td>1</td>\n",
       "      <td>0</td>\n",
       "      <td>0</td>\n",
       "      <td>0</td>\n",
       "      <td>...</td>\n",
       "      <td>0</td>\n",
       "      <td>0</td>\n",
       "      <td>0</td>\n",
       "      <td>0</td>\n",
       "      <td>0</td>\n",
       "      <td>0</td>\n",
       "      <td>0</td>\n",
       "      <td>0</td>\n",
       "      <td>0</td>\n",
       "      <td>0</td>\n",
       "    </tr>\n",
       "  </tbody>\n",
       "</table>\n",
       "<p>5 rows × 31 columns</p>\n",
       "</div>"
      ],
      "text/plain": [
       "   timecost  arrive_traffic  rain-1  weekday_1  weekday_2  weekday_3  \\\n",
       "0     24238             125       0          0          0          0   \n",
       "1     22762             125       0          0          0          0   \n",
       "2     23867             125       0          0          0          0   \n",
       "3     23196             125       0          0          0          0   \n",
       "4     23654             125       0          0          0          0   \n",
       "\n",
       "   weekday_4  weekday_6  time_1  time_2  ...  time_14  time_15  time_16  \\\n",
       "0          1          0       0       0  ...        0        1        0   \n",
       "1          1          0       0       0  ...        0        0        0   \n",
       "2          1          0       0       0  ...        0        0        0   \n",
       "3          1          0       0       0  ...        0        0        0   \n",
       "4          1          0       0       0  ...        0        0        0   \n",
       "\n",
       "   time_17  time_18  time_19  time_20  time_21  time_22  time_23  \n",
       "0        0        0        0        0        0        0        0  \n",
       "1        0        0        0        0        0        0        0  \n",
       "2        0        0        0        0        0        0        0  \n",
       "3        0        1        0        0        0        0        0  \n",
       "4        0        0        0        0        0        0        0  \n",
       "\n",
       "[5 rows x 31 columns]"
      ]
     },
     "execution_count": 10,
     "metadata": {},
     "output_type": "execute_result"
    }
   ],
   "source": [
    "data2.head()"
   ]
  },
  {
   "cell_type": "code",
   "execution_count": 11,
   "id": "66f31e6f",
   "metadata": {},
   "outputs": [
    {
     "name": "stdout",
     "output_type": "stream",
     "text": [
      "time Ttest_indResult(statistic=90.47379616717113, pvalue=0.0)\n",
      "timecost Ttest_indResult(statistic=0.0, pvalue=1.0)\n",
      "weekday Ttest_indResult(statistic=90.51134655235914, pvalue=0.0)\n",
      "arrive_traffic Ttest_indResult(statistic=90.14408684465968, pvalue=0.0)\n",
      "rain-1 Ttest_indResult(statistic=90.52245988649328, pvalue=0.0)\n"
     ]
    }
   ],
   "source": [
    "for col in data.columns:\n",
    "    print(col,spst.ttest_ind(data[target],data[col]))"
   ]
  },
  {
   "cell_type": "code",
   "execution_count": 12,
   "id": "455c77aa",
   "metadata": {},
   "outputs": [
    {
     "data": {
      "text/plain": [
       "(0.10701453950026897, 0.038066369093932816)"
      ]
     },
     "execution_count": 12,
     "metadata": {},
     "output_type": "execute_result"
    }
   ],
   "source": [
    "spst.pearsonr(data[target],data['arrive_traffic'])"
   ]
  },
  {
   "cell_type": "code",
   "execution_count": 25,
   "id": "7d75c00c",
   "metadata": {},
   "outputs": [],
   "source": [
    "y= data2[target]\n",
    "x= data2.drop(target,axis=1)"
   ]
  },
  {
   "cell_type": "code",
   "execution_count": 28,
   "id": "f8f10ea5",
   "metadata": {},
   "outputs": [],
   "source": [
    "x_train, x_val, y_train, y_val = train_test_split(x,y, test_size = 3, shuffle = False)"
   ]
  },
  {
   "cell_type": "code",
   "execution_count": 30,
   "id": "809424ab",
   "metadata": {},
   "outputs": [],
   "source": [
    "scaler = MinMaxScaler()\n",
    "x_train_s = scaler.fit_transform(x_train)\n",
    "x_val_s = scaler.fit_transform(x_val)"
   ]
  },
  {
   "cell_type": "code",
   "execution_count": 31,
   "id": "90c536d1",
   "metadata": {},
   "outputs": [],
   "source": [
    "mR = RandomForestRegressor()\n",
    "mS = SVR()\n",
    "mX = XGBRegressor()"
   ]
  },
  {
   "cell_type": "code",
   "execution_count": 42,
   "id": "3f55861d",
   "metadata": {},
   "outputs": [],
   "source": [
    "Rparams = {'max_depth': range(2,5)}\n",
    "Sparams = {'kernel': ['rbf'], \"C\" : [.5,1,2,5],'gamma':[.5,.7,1.,1.5]}\n",
    "Xparams = {'max_depth': range(2,4), 'learning_rate': [.01, .1, .2, .5]}"
   ]
  },
  {
   "cell_type": "code",
   "execution_count": 43,
   "id": "eb22c717",
   "metadata": {},
   "outputs": [],
   "source": [
    "Rg = GridSearchCV(mR, Rparams, cv = 3 , verbose = 2)\n",
    "Sg = GridSearchCV(mS, Sparams, cv = 3 , verbose = 2)\n",
    "Xg = GridSearchCV(mX, Xparams, cv = 3 , verbose = 2)"
   ]
  },
  {
   "cell_type": "code",
   "execution_count": 62,
   "id": "92d5b503",
   "metadata": {},
   "outputs": [
    {
     "name": "stdout",
     "output_type": "stream",
     "text": [
      "Fitting 3 folds for each of 3 candidates, totalling 9 fits\n",
      "[CV] END ........................................max_depth=2; total time=   0.1s\n",
      "[CV] END ........................................max_depth=2; total time=   0.0s\n",
      "[CV] END ........................................max_depth=2; total time=   0.0s\n",
      "[CV] END ........................................max_depth=3; total time=   0.0s\n",
      "[CV] END ........................................max_depth=3; total time=   0.0s\n",
      "[CV] END ........................................max_depth=3; total time=   0.1s\n",
      "[CV] END ........................................max_depth=4; total time=   0.1s\n",
      "[CV] END ........................................max_depth=4; total time=   0.1s\n",
      "[CV] END ........................................max_depth=4; total time=   0.0s\n"
     ]
    },
    {
     "data": {
      "text/plain": [
       "GridSearchCV(cv=3, estimator=RandomForestRegressor(),\n",
       "             param_grid={'max_depth': range(2, 5)}, verbose=2)"
      ]
     },
     "execution_count": 62,
     "metadata": {},
     "output_type": "execute_result"
    }
   ],
   "source": [
    "Rg.fit(x_train, y_train)"
   ]
  },
  {
   "cell_type": "code",
   "execution_count": 45,
   "id": "ffd5bc39",
   "metadata": {},
   "outputs": [
    {
     "name": "stdout",
     "output_type": "stream",
     "text": [
      "Fitting 3 folds for each of 16 candidates, totalling 48 fits\n",
      "[CV] END .......................C=0.5, gamma=0.5, kernel=rbf; total time=   0.0s\n",
      "[CV] END .......................C=0.5, gamma=0.5, kernel=rbf; total time=   0.0s\n",
      "[CV] END .......................C=0.5, gamma=0.5, kernel=rbf; total time=   0.0s\n",
      "[CV] END .......................C=0.5, gamma=0.7, kernel=rbf; total time=   0.0s\n",
      "[CV] END .......................C=0.5, gamma=0.7, kernel=rbf; total time=   0.0s\n",
      "[CV] END .......................C=0.5, gamma=0.7, kernel=rbf; total time=   0.0s\n",
      "[CV] END .......................C=0.5, gamma=1.0, kernel=rbf; total time=   0.0s\n",
      "[CV] END .......................C=0.5, gamma=1.0, kernel=rbf; total time=   0.0s\n",
      "[CV] END .......................C=0.5, gamma=1.0, kernel=rbf; total time=   0.0s\n",
      "[CV] END .......................C=0.5, gamma=1.5, kernel=rbf; total time=   0.0s\n",
      "[CV] END .......................C=0.5, gamma=1.5, kernel=rbf; total time=   0.0s\n",
      "[CV] END .......................C=0.5, gamma=1.5, kernel=rbf; total time=   0.0s\n",
      "[CV] END .........................C=1, gamma=0.5, kernel=rbf; total time=   0.0s\n",
      "[CV] END .........................C=1, gamma=0.5, kernel=rbf; total time=   0.0s\n",
      "[CV] END .........................C=1, gamma=0.5, kernel=rbf; total time=   0.0s\n",
      "[CV] END .........................C=1, gamma=0.7, kernel=rbf; total time=   0.0s\n",
      "[CV] END .........................C=1, gamma=0.7, kernel=rbf; total time=   0.0s\n",
      "[CV] END .........................C=1, gamma=0.7, kernel=rbf; total time=   0.0s\n",
      "[CV] END .........................C=1, gamma=1.0, kernel=rbf; total time=   0.0s\n",
      "[CV] END .........................C=1, gamma=1.0, kernel=rbf; total time=   0.0s\n",
      "[CV] END .........................C=1, gamma=1.0, kernel=rbf; total time=   0.0s\n",
      "[CV] END .........................C=1, gamma=1.5, kernel=rbf; total time=   0.0s\n",
      "[CV] END .........................C=1, gamma=1.5, kernel=rbf; total time=   0.0s\n",
      "[CV] END .........................C=1, gamma=1.5, kernel=rbf; total time=   0.0s\n",
      "[CV] END .........................C=2, gamma=0.5, kernel=rbf; total time=   0.0s\n",
      "[CV] END .........................C=2, gamma=0.5, kernel=rbf; total time=   0.0s\n",
      "[CV] END .........................C=2, gamma=0.5, kernel=rbf; total time=   0.0s\n",
      "[CV] END .........................C=2, gamma=0.7, kernel=rbf; total time=   0.0s\n",
      "[CV] END .........................C=2, gamma=0.7, kernel=rbf; total time=   0.0s\n",
      "[CV] END .........................C=2, gamma=0.7, kernel=rbf; total time=   0.0s\n",
      "[CV] END .........................C=2, gamma=1.0, kernel=rbf; total time=   0.0s\n",
      "[CV] END .........................C=2, gamma=1.0, kernel=rbf; total time=   0.0s\n",
      "[CV] END .........................C=2, gamma=1.0, kernel=rbf; total time=   0.0s\n",
      "[CV] END .........................C=2, gamma=1.5, kernel=rbf; total time=   0.0s\n",
      "[CV] END .........................C=2, gamma=1.5, kernel=rbf; total time=   0.0s\n",
      "[CV] END .........................C=2, gamma=1.5, kernel=rbf; total time=   0.0s\n",
      "[CV] END .........................C=5, gamma=0.5, kernel=rbf; total time=   0.0s\n",
      "[CV] END .........................C=5, gamma=0.5, kernel=rbf; total time=   0.0s\n",
      "[CV] END .........................C=5, gamma=0.5, kernel=rbf; total time=   0.0s\n",
      "[CV] END .........................C=5, gamma=0.7, kernel=rbf; total time=   0.0s\n",
      "[CV] END .........................C=5, gamma=0.7, kernel=rbf; total time=   0.0s\n",
      "[CV] END .........................C=5, gamma=0.7, kernel=rbf; total time=   0.0s\n",
      "[CV] END .........................C=5, gamma=1.0, kernel=rbf; total time=   0.0s\n",
      "[CV] END .........................C=5, gamma=1.0, kernel=rbf; total time=   0.0s\n",
      "[CV] END .........................C=5, gamma=1.0, kernel=rbf; total time=   0.0s\n",
      "[CV] END .........................C=5, gamma=1.5, kernel=rbf; total time=   0.0s\n",
      "[CV] END .........................C=5, gamma=1.5, kernel=rbf; total time=   0.0s\n",
      "[CV] END .........................C=5, gamma=1.5, kernel=rbf; total time=   0.0s\n"
     ]
    },
    {
     "data": {
      "text/plain": [
       "GridSearchCV(cv=3, estimator=SVR(),\n",
       "             param_grid={'C': [0.5, 1, 2, 5], 'gamma': [0.5, 0.7, 1.0, 1.5],\n",
       "                         'kernel': ['rbf']},\n",
       "             verbose=2)"
      ]
     },
     "execution_count": 45,
     "metadata": {},
     "output_type": "execute_result"
    }
   ],
   "source": [
    "Sg.fit(x_train_s, y_train)\n"
   ]
  },
  {
   "cell_type": "code",
   "execution_count": 63,
   "id": "be989ddd",
   "metadata": {},
   "outputs": [
    {
     "name": "stdout",
     "output_type": "stream",
     "text": [
      "Fitting 3 folds for each of 8 candidates, totalling 24 fits\n",
      "[CV] END ....................learning_rate=0.01, max_depth=2; total time=   0.0s\n",
      "[CV] END ....................learning_rate=0.01, max_depth=2; total time=   0.0s\n",
      "[CV] END ....................learning_rate=0.01, max_depth=2; total time=   0.0s\n",
      "[CV] END ....................learning_rate=0.01, max_depth=3; total time=   0.0s\n",
      "[CV] END ....................learning_rate=0.01, max_depth=3; total time=   0.0s\n",
      "[CV] END ....................learning_rate=0.01, max_depth=3; total time=   0.0s\n",
      "[CV] END .....................learning_rate=0.1, max_depth=2; total time=   0.0s\n",
      "[CV] END .....................learning_rate=0.1, max_depth=2; total time=   0.0s\n",
      "[CV] END .....................learning_rate=0.1, max_depth=2; total time=   0.0s\n",
      "[CV] END .....................learning_rate=0.1, max_depth=3; total time=   0.0s\n",
      "[CV] END .....................learning_rate=0.1, max_depth=3; total time=   0.0s\n",
      "[CV] END .....................learning_rate=0.1, max_depth=3; total time=   0.0s\n",
      "[CV] END .....................learning_rate=0.2, max_depth=2; total time=   0.0s\n",
      "[CV] END .....................learning_rate=0.2, max_depth=2; total time=   0.0s\n",
      "[CV] END .....................learning_rate=0.2, max_depth=2; total time=   0.0s\n",
      "[CV] END .....................learning_rate=0.2, max_depth=3; total time=   0.0s\n",
      "[CV] END .....................learning_rate=0.2, max_depth=3; total time=   0.0s\n",
      "[CV] END .....................learning_rate=0.2, max_depth=3; total time=   0.0s\n",
      "[CV] END .....................learning_rate=0.5, max_depth=2; total time=   0.0s\n",
      "[CV] END .....................learning_rate=0.5, max_depth=2; total time=   0.0s\n",
      "[CV] END .....................learning_rate=0.5, max_depth=2; total time=   0.0s\n",
      "[CV] END .....................learning_rate=0.5, max_depth=3; total time=   0.0s\n",
      "[CV] END .....................learning_rate=0.5, max_depth=3; total time=   0.0s\n",
      "[CV] END .....................learning_rate=0.5, max_depth=3; total time=   0.0s\n"
     ]
    },
    {
     "data": {
      "text/plain": [
       "GridSearchCV(cv=3,\n",
       "             estimator=XGBRegressor(base_score=None, booster=None,\n",
       "                                    callbacks=None, colsample_bylevel=None,\n",
       "                                    colsample_bynode=None,\n",
       "                                    colsample_bytree=None,\n",
       "                                    early_stopping_rounds=None,\n",
       "                                    enable_categorical=False, eval_metric=None,\n",
       "                                    gamma=None, gpu_id=None, grow_policy=None,\n",
       "                                    importance_type=None,\n",
       "                                    interaction_constraints=None,\n",
       "                                    learning_rate=None, max_bin=None,\n",
       "                                    max_cat_to_onehot=None, max_delta_step=None,\n",
       "                                    max_depth=None, max_leaves=None,\n",
       "                                    min_child_weight=None, missing=nan,\n",
       "                                    monotone_constraints=None, n_estimators=100,\n",
       "                                    n_jobs=None, num_parallel_tree=None,\n",
       "                                    predictor=None, random_state=None,\n",
       "                                    reg_alpha=None, reg_lambda=None, ...),\n",
       "             param_grid={'learning_rate': [0.01, 0.1, 0.2, 0.5],\n",
       "                         'max_depth': range(2, 4)},\n",
       "             verbose=2)"
      ]
     },
     "execution_count": 63,
     "metadata": {},
     "output_type": "execute_result"
    }
   ],
   "source": [
    "Xg.fit(x_train, y_train)"
   ]
  },
  {
   "cell_type": "code",
   "execution_count": 64,
   "id": "2e68f6e6",
   "metadata": {},
   "outputs": [
    {
     "data": {
      "text/plain": [
       "{'max_depth': 3}"
      ]
     },
     "execution_count": 64,
     "metadata": {},
     "output_type": "execute_result"
    }
   ],
   "source": [
    "Rg.best_params_"
   ]
  },
  {
   "cell_type": "code",
   "execution_count": 65,
   "id": "364cdcb9",
   "metadata": {},
   "outputs": [
    {
     "data": {
      "text/plain": [
       "{'C': 5, 'gamma': 0.5, 'kernel': 'rbf'}"
      ]
     },
     "execution_count": 65,
     "metadata": {},
     "output_type": "execute_result"
    }
   ],
   "source": [
    "Sg.best_params_"
   ]
  },
  {
   "cell_type": "code",
   "execution_count": 66,
   "id": "69e8b6a3",
   "metadata": {},
   "outputs": [
    {
     "data": {
      "text/plain": [
       "{'learning_rate': 0.1, 'max_depth': 3}"
      ]
     },
     "execution_count": 66,
     "metadata": {},
     "output_type": "execute_result"
    }
   ],
   "source": [
    "Xg.best_params_"
   ]
  },
  {
   "cell_type": "code",
   "execution_count": 70,
   "id": "62d0cdea",
   "metadata": {},
   "outputs": [],
   "source": [
    "modelR=RandomForestRegressor(max_depth= 3)\n",
    "modelS=SVR(C=5, gamma= 0.5, kernel= 'rbf')\n",
    "modelX=XGBRegressor(learning_rate= 0.1, max_depth= 3)"
   ]
  },
  {
   "cell_type": "code",
   "execution_count": 71,
   "id": "55a56086",
   "metadata": {},
   "outputs": [
    {
     "data": {
      "text/plain": [
       "['chuXGB.pkl']"
      ]
     },
     "execution_count": 71,
     "metadata": {},
     "output_type": "execute_result"
    }
   ],
   "source": [
    "import joblib\n",
    "joblib.dump(modelR,'chuRF.pkl')\n",
    "joblib.dump(modelS,'chuSVM.pkl')\n",
    "joblib.dump(modelX,'chuXGB.pkl')"
   ]
  },
  {
   "cell_type": "code",
   "execution_count": 67,
   "id": "7a36911d",
   "metadata": {},
   "outputs": [],
   "source": [
    "pRg=Rg.predict(x_val)\n",
    "pSg=Sg.predict(x_val_s)\n",
    "pXg=Xg.predict(x_val)"
   ]
  },
  {
   "cell_type": "code",
   "execution_count": 68,
   "id": "c589b57c",
   "metadata": {},
   "outputs": [
    {
     "data": {
      "text/plain": [
       "(-1.1484134535094488, -94620.60747923933, 0.4103139781572551)"
      ]
     },
     "execution_count": 68,
     "metadata": {},
     "output_type": "execute_result"
    }
   ],
   "source": [
    "r2_score(pRg,y_val),r2_score(pSg,y_val),r2_score(pXg,y_val)"
   ]
  },
  {
   "cell_type": "code",
   "execution_count": 69,
   "id": "91fdcde5",
   "metadata": {},
   "outputs": [
    {
     "data": {
      "text/plain": [
       "(0.0378984800891481, 0.20863611020784104, 0.059717012031425654)"
      ]
     },
     "execution_count": 69,
     "metadata": {},
     "output_type": "execute_result"
    }
   ],
   "source": [
    "mean_absolute_percentage_error(pRg,y_val),mean_absolute_percentage_error(pSg,y_val),mean_absolute_percentage_error(pXg,y_val)"
   ]
  },
  {
   "cell_type": "code",
   "execution_count": 86,
   "id": "5bf224fc",
   "metadata": {},
   "outputs": [],
   "source": [
    "test = x_train.iloc[-1]"
   ]
  },
  {
   "cell_type": "code",
   "execution_count": 89,
   "id": "4e03d3ba",
   "metadata": {},
   "outputs": [
    {
     "data": {
      "text/plain": [
       "arrive_traffic    20\n",
       "rain-1             0\n",
       "weekday_1          0\n",
       "weekday_2          0\n",
       "weekday_3          0\n",
       "weekday_4          0\n",
       "weekday_6          0\n",
       "time_1             0\n",
       "time_2             0\n",
       "time_3             0\n",
       "time_4             0\n",
       "time_5             0\n",
       "time_6             0\n",
       "time_7             0\n",
       "time_8             0\n",
       "time_9             0\n",
       "time_10            0\n",
       "time_11            0\n",
       "time_12            0\n",
       "time_13            0\n",
       "time_14            0\n",
       "time_15            0\n",
       "time_16            1\n",
       "time_17            0\n",
       "time_18            0\n",
       "time_19            0\n",
       "time_20            0\n",
       "time_21            0\n",
       "time_22            0\n",
       "time_23            0\n",
       "Name: 372, dtype: int64"
      ]
     },
     "execution_count": 89,
     "metadata": {},
     "output_type": "execute_result"
    }
   ],
   "source": [
    "x_train.iloc[-1]"
   ]
  },
  {
   "cell_type": "code",
   "execution_count": 88,
   "id": "0fe9e648",
   "metadata": {},
   "outputs": [
    {
     "data": {
      "text/plain": [
       "arrive_traffic    20\n",
       "rain-1             0\n",
       "weekday_1          0\n",
       "weekday_2          0\n",
       "weekday_3          0\n",
       "weekday_4          0\n",
       "weekday_6          0\n",
       "time_1             0\n",
       "time_2             0\n",
       "time_3             0\n",
       "time_4             0\n",
       "time_5             0\n",
       "time_6             0\n",
       "time_7             0\n",
       "time_8             0\n",
       "time_9             0\n",
       "time_10            0\n",
       "time_11            0\n",
       "time_12            0\n",
       "time_13            0\n",
       "time_14            0\n",
       "time_15            0\n",
       "time_16            1\n",
       "time_17            0\n",
       "time_18            0\n",
       "time_19            0\n",
       "time_20            0\n",
       "time_21            0\n",
       "time_22            0\n",
       "time_23            0\n",
       "Name: 372, dtype: int64"
      ]
     },
     "execution_count": 88,
     "metadata": {},
     "output_type": "execute_result"
    }
   ],
   "source": [
    "test"
   ]
  },
  {
   "cell_type": "code",
   "execution_count": 90,
   "id": "b5fa8502",
   "metadata": {},
   "outputs": [
    {
     "name": "stderr",
     "output_type": "stream",
     "text": [
      "<ipython-input-90-ae68a5855a47>:1: SettingWithCopyWarning: \n",
      "A value is trying to be set on a copy of a slice from a DataFrame\n",
      "\n",
      "See the caveats in the documentation: https://pandas.pydata.org/pandas-docs/stable/user_guide/indexing.html#returning-a-view-versus-a-copy\n",
      "  test['time_16'] =0\n",
      "<ipython-input-90-ae68a5855a47>:2: SettingWithCopyWarning: \n",
      "A value is trying to be set on a copy of a slice from a DataFrame\n",
      "\n",
      "See the caveats in the documentation: https://pandas.pydata.org/pandas-docs/stable/user_guide/indexing.html#returning-a-view-versus-a-copy\n",
      "  test['time_12'] =1\n",
      "<ipython-input-90-ae68a5855a47>:3: SettingWithCopyWarning: \n",
      "A value is trying to be set on a copy of a slice from a DataFrame\n",
      "\n",
      "See the caveats in the documentation: https://pandas.pydata.org/pandas-docs/stable/user_guide/indexing.html#returning-a-view-versus-a-copy\n",
      "  test['weekday_4']=1\n"
     ]
    }
   ],
   "source": [
    "test['time_16'] =0\n",
    "test['time_12'] =1\n",
    "test['weekday_4']=1"
   ]
  },
  {
   "cell_type": "code",
   "execution_count": 60,
   "id": "c8c048df",
   "metadata": {},
   "outputs": [],
   "source": [
    "scaledf = pd.DataFrame(x_train_s)"
   ]
  },
  {
   "cell_type": "code",
   "execution_count": 61,
   "id": "6831b73c",
   "metadata": {},
   "outputs": [
    {
     "data": {
      "text/html": [
       "<div>\n",
       "<style scoped>\n",
       "    .dataframe tbody tr th:only-of-type {\n",
       "        vertical-align: middle;\n",
       "    }\n",
       "\n",
       "    .dataframe tbody tr th {\n",
       "        vertical-align: top;\n",
       "    }\n",
       "\n",
       "    .dataframe thead th {\n",
       "        text-align: right;\n",
       "    }\n",
       "</style>\n",
       "<table border=\"1\" class=\"dataframe\">\n",
       "  <thead>\n",
       "    <tr style=\"text-align: right;\">\n",
       "      <th></th>\n",
       "      <th>0</th>\n",
       "      <th>1</th>\n",
       "      <th>2</th>\n",
       "      <th>3</th>\n",
       "      <th>4</th>\n",
       "      <th>5</th>\n",
       "      <th>6</th>\n",
       "      <th>7</th>\n",
       "      <th>8</th>\n",
       "      <th>9</th>\n",
       "      <th>10</th>\n",
       "      <th>11</th>\n",
       "      <th>12</th>\n",
       "      <th>13</th>\n",
       "      <th>14</th>\n",
       "      <th>15</th>\n",
       "      <th>16</th>\n",
       "      <th>17</th>\n",
       "      <th>18</th>\n",
       "      <th>19</th>\n",
       "      <th>20</th>\n",
       "      <th>21</th>\n",
       "      <th>22</th>\n",
       "      <th>23</th>\n",
       "      <th>24</th>\n",
       "      <th>25</th>\n",
       "      <th>26</th>\n",
       "      <th>27</th>\n",
       "      <th>28</th>\n",
       "      <th>29</th>\n",
       "    </tr>\n",
       "  </thead>\n",
       "  <tbody>\n",
       "    <tr>\n",
       "      <th>count</th>\n",
       "      <td>373.000000</td>\n",
       "      <td>373.0</td>\n",
       "      <td>373.000000</td>\n",
       "      <td>373.000000</td>\n",
       "      <td>373.000000</td>\n",
       "      <td>373.000000</td>\n",
       "      <td>373.000000</td>\n",
       "      <td>373.000000</td>\n",
       "      <td>373.000000</td>\n",
       "      <td>373.000000</td>\n",
       "      <td>373.000000</td>\n",
       "      <td>373.000000</td>\n",
       "      <td>373.000000</td>\n",
       "      <td>373.000000</td>\n",
       "      <td>373.000000</td>\n",
       "      <td>373.000000</td>\n",
       "      <td>373.000000</td>\n",
       "      <td>373.000000</td>\n",
       "      <td>373.000000</td>\n",
       "      <td>373.000000</td>\n",
       "      <td>373.000000</td>\n",
       "      <td>373.000000</td>\n",
       "      <td>373.000000</td>\n",
       "      <td>373.000000</td>\n",
       "      <td>373.000000</td>\n",
       "      <td>373.000000</td>\n",
       "      <td>373.000000</td>\n",
       "      <td>373.000000</td>\n",
       "      <td>373.000000</td>\n",
       "      <td>373.000000</td>\n",
       "    </tr>\n",
       "    <tr>\n",
       "      <th>mean</th>\n",
       "      <td>0.284444</td>\n",
       "      <td>0.0</td>\n",
       "      <td>0.101877</td>\n",
       "      <td>0.067024</td>\n",
       "      <td>0.329759</td>\n",
       "      <td>0.214477</td>\n",
       "      <td>0.088472</td>\n",
       "      <td>0.037534</td>\n",
       "      <td>0.045576</td>\n",
       "      <td>0.045576</td>\n",
       "      <td>0.042895</td>\n",
       "      <td>0.042895</td>\n",
       "      <td>0.042895</td>\n",
       "      <td>0.045576</td>\n",
       "      <td>0.048257</td>\n",
       "      <td>0.048257</td>\n",
       "      <td>0.045576</td>\n",
       "      <td>0.040214</td>\n",
       "      <td>0.040214</td>\n",
       "      <td>0.040214</td>\n",
       "      <td>0.034853</td>\n",
       "      <td>0.034853</td>\n",
       "      <td>0.037534</td>\n",
       "      <td>0.037534</td>\n",
       "      <td>0.042895</td>\n",
       "      <td>0.045576</td>\n",
       "      <td>0.048257</td>\n",
       "      <td>0.048257</td>\n",
       "      <td>0.034853</td>\n",
       "      <td>0.032172</td>\n",
       "    </tr>\n",
       "    <tr>\n",
       "      <th>std</th>\n",
       "      <td>0.246971</td>\n",
       "      <td>0.0</td>\n",
       "      <td>0.302892</td>\n",
       "      <td>0.250400</td>\n",
       "      <td>0.470757</td>\n",
       "      <td>0.411011</td>\n",
       "      <td>0.284361</td>\n",
       "      <td>0.190320</td>\n",
       "      <td>0.208845</td>\n",
       "      <td>0.208845</td>\n",
       "      <td>0.202894</td>\n",
       "      <td>0.202894</td>\n",
       "      <td>0.202894</td>\n",
       "      <td>0.208845</td>\n",
       "      <td>0.214597</td>\n",
       "      <td>0.214597</td>\n",
       "      <td>0.208845</td>\n",
       "      <td>0.196726</td>\n",
       "      <td>0.196726</td>\n",
       "      <td>0.196726</td>\n",
       "      <td>0.183653</td>\n",
       "      <td>0.183653</td>\n",
       "      <td>0.190320</td>\n",
       "      <td>0.190320</td>\n",
       "      <td>0.202894</td>\n",
       "      <td>0.208845</td>\n",
       "      <td>0.214597</td>\n",
       "      <td>0.214597</td>\n",
       "      <td>0.183653</td>\n",
       "      <td>0.176693</td>\n",
       "    </tr>\n",
       "    <tr>\n",
       "      <th>min</th>\n",
       "      <td>0.000000</td>\n",
       "      <td>0.0</td>\n",
       "      <td>0.000000</td>\n",
       "      <td>0.000000</td>\n",
       "      <td>0.000000</td>\n",
       "      <td>0.000000</td>\n",
       "      <td>0.000000</td>\n",
       "      <td>0.000000</td>\n",
       "      <td>0.000000</td>\n",
       "      <td>0.000000</td>\n",
       "      <td>0.000000</td>\n",
       "      <td>0.000000</td>\n",
       "      <td>0.000000</td>\n",
       "      <td>0.000000</td>\n",
       "      <td>0.000000</td>\n",
       "      <td>0.000000</td>\n",
       "      <td>0.000000</td>\n",
       "      <td>0.000000</td>\n",
       "      <td>0.000000</td>\n",
       "      <td>0.000000</td>\n",
       "      <td>0.000000</td>\n",
       "      <td>0.000000</td>\n",
       "      <td>0.000000</td>\n",
       "      <td>0.000000</td>\n",
       "      <td>0.000000</td>\n",
       "      <td>0.000000</td>\n",
       "      <td>0.000000</td>\n",
       "      <td>0.000000</td>\n",
       "      <td>0.000000</td>\n",
       "      <td>0.000000</td>\n",
       "    </tr>\n",
       "    <tr>\n",
       "      <th>25%</th>\n",
       "      <td>0.186441</td>\n",
       "      <td>0.0</td>\n",
       "      <td>0.000000</td>\n",
       "      <td>0.000000</td>\n",
       "      <td>0.000000</td>\n",
       "      <td>0.000000</td>\n",
       "      <td>0.000000</td>\n",
       "      <td>0.000000</td>\n",
       "      <td>0.000000</td>\n",
       "      <td>0.000000</td>\n",
       "      <td>0.000000</td>\n",
       "      <td>0.000000</td>\n",
       "      <td>0.000000</td>\n",
       "      <td>0.000000</td>\n",
       "      <td>0.000000</td>\n",
       "      <td>0.000000</td>\n",
       "      <td>0.000000</td>\n",
       "      <td>0.000000</td>\n",
       "      <td>0.000000</td>\n",
       "      <td>0.000000</td>\n",
       "      <td>0.000000</td>\n",
       "      <td>0.000000</td>\n",
       "      <td>0.000000</td>\n",
       "      <td>0.000000</td>\n",
       "      <td>0.000000</td>\n",
       "      <td>0.000000</td>\n",
       "      <td>0.000000</td>\n",
       "      <td>0.000000</td>\n",
       "      <td>0.000000</td>\n",
       "      <td>0.000000</td>\n",
       "    </tr>\n",
       "    <tr>\n",
       "      <th>50%</th>\n",
       "      <td>0.211864</td>\n",
       "      <td>0.0</td>\n",
       "      <td>0.000000</td>\n",
       "      <td>0.000000</td>\n",
       "      <td>0.000000</td>\n",
       "      <td>0.000000</td>\n",
       "      <td>0.000000</td>\n",
       "      <td>0.000000</td>\n",
       "      <td>0.000000</td>\n",
       "      <td>0.000000</td>\n",
       "      <td>0.000000</td>\n",
       "      <td>0.000000</td>\n",
       "      <td>0.000000</td>\n",
       "      <td>0.000000</td>\n",
       "      <td>0.000000</td>\n",
       "      <td>0.000000</td>\n",
       "      <td>0.000000</td>\n",
       "      <td>0.000000</td>\n",
       "      <td>0.000000</td>\n",
       "      <td>0.000000</td>\n",
       "      <td>0.000000</td>\n",
       "      <td>0.000000</td>\n",
       "      <td>0.000000</td>\n",
       "      <td>0.000000</td>\n",
       "      <td>0.000000</td>\n",
       "      <td>0.000000</td>\n",
       "      <td>0.000000</td>\n",
       "      <td>0.000000</td>\n",
       "      <td>0.000000</td>\n",
       "      <td>0.000000</td>\n",
       "    </tr>\n",
       "    <tr>\n",
       "      <th>75%</th>\n",
       "      <td>0.245763</td>\n",
       "      <td>0.0</td>\n",
       "      <td>0.000000</td>\n",
       "      <td>0.000000</td>\n",
       "      <td>1.000000</td>\n",
       "      <td>0.000000</td>\n",
       "      <td>0.000000</td>\n",
       "      <td>0.000000</td>\n",
       "      <td>0.000000</td>\n",
       "      <td>0.000000</td>\n",
       "      <td>0.000000</td>\n",
       "      <td>0.000000</td>\n",
       "      <td>0.000000</td>\n",
       "      <td>0.000000</td>\n",
       "      <td>0.000000</td>\n",
       "      <td>0.000000</td>\n",
       "      <td>0.000000</td>\n",
       "      <td>0.000000</td>\n",
       "      <td>0.000000</td>\n",
       "      <td>0.000000</td>\n",
       "      <td>0.000000</td>\n",
       "      <td>0.000000</td>\n",
       "      <td>0.000000</td>\n",
       "      <td>0.000000</td>\n",
       "      <td>0.000000</td>\n",
       "      <td>0.000000</td>\n",
       "      <td>0.000000</td>\n",
       "      <td>0.000000</td>\n",
       "      <td>0.000000</td>\n",
       "      <td>0.000000</td>\n",
       "    </tr>\n",
       "    <tr>\n",
       "      <th>max</th>\n",
       "      <td>1.000000</td>\n",
       "      <td>0.0</td>\n",
       "      <td>1.000000</td>\n",
       "      <td>1.000000</td>\n",
       "      <td>1.000000</td>\n",
       "      <td>1.000000</td>\n",
       "      <td>1.000000</td>\n",
       "      <td>1.000000</td>\n",
       "      <td>1.000000</td>\n",
       "      <td>1.000000</td>\n",
       "      <td>1.000000</td>\n",
       "      <td>1.000000</td>\n",
       "      <td>1.000000</td>\n",
       "      <td>1.000000</td>\n",
       "      <td>1.000000</td>\n",
       "      <td>1.000000</td>\n",
       "      <td>1.000000</td>\n",
       "      <td>1.000000</td>\n",
       "      <td>1.000000</td>\n",
       "      <td>1.000000</td>\n",
       "      <td>1.000000</td>\n",
       "      <td>1.000000</td>\n",
       "      <td>1.000000</td>\n",
       "      <td>1.000000</td>\n",
       "      <td>1.000000</td>\n",
       "      <td>1.000000</td>\n",
       "      <td>1.000000</td>\n",
       "      <td>1.000000</td>\n",
       "      <td>1.000000</td>\n",
       "      <td>1.000000</td>\n",
       "    </tr>\n",
       "  </tbody>\n",
       "</table>\n",
       "</div>"
      ],
      "text/plain": [
       "               0      1           2           3   ...          26          27          28          29\n",
       "count  373.000000  373.0  373.000000  373.000000  ...  373.000000  373.000000  373.000000  373.000000\n",
       "mean     0.284444    0.0    0.101877    0.067024  ...    0.048257    0.048257    0.034853    0.032172\n",
       "std      0.246971    0.0    0.302892    0.250400  ...    0.214597    0.214597    0.183653    0.176693\n",
       "min      0.000000    0.0    0.000000    0.000000  ...    0.000000    0.000000    0.000000    0.000000\n",
       "25%      0.186441    0.0    0.000000    0.000000  ...    0.000000    0.000000    0.000000    0.000000\n",
       "50%      0.211864    0.0    0.000000    0.000000  ...    0.000000    0.000000    0.000000    0.000000\n",
       "75%      0.245763    0.0    0.000000    0.000000  ...    0.000000    0.000000    0.000000    0.000000\n",
       "max      1.000000    0.0    1.000000    1.000000  ...    1.000000    1.000000    1.000000    1.000000\n",
       "\n",
       "[8 rows x 30 columns]"
      ]
     },
     "execution_count": 61,
     "metadata": {},
     "output_type": "execute_result"
    }
   ],
   "source": [
    "scaledf.describe()"
   ]
  },
  {
   "cell_type": "code",
   "execution_count": 91,
   "id": "40bacd27",
   "metadata": {},
   "outputs": [],
   "source": [
    "testdf = pd.DataFrame(test)"
   ]
  },
  {
   "cell_type": "code",
   "execution_count": 92,
   "id": "584f049c",
   "metadata": {},
   "outputs": [
    {
     "data": {
      "text/html": [
       "<div>\n",
       "<style scoped>\n",
       "    .dataframe tbody tr th:only-of-type {\n",
       "        vertical-align: middle;\n",
       "    }\n",
       "\n",
       "    .dataframe tbody tr th {\n",
       "        vertical-align: top;\n",
       "    }\n",
       "\n",
       "    .dataframe thead th {\n",
       "        text-align: right;\n",
       "    }\n",
       "</style>\n",
       "<table border=\"1\" class=\"dataframe\">\n",
       "  <thead>\n",
       "    <tr style=\"text-align: right;\">\n",
       "      <th></th>\n",
       "      <th>arrive_traffic</th>\n",
       "      <th>rain-1</th>\n",
       "      <th>weekday_1</th>\n",
       "      <th>weekday_2</th>\n",
       "      <th>weekday_3</th>\n",
       "      <th>weekday_4</th>\n",
       "      <th>weekday_6</th>\n",
       "      <th>time_1</th>\n",
       "      <th>time_2</th>\n",
       "      <th>time_3</th>\n",
       "      <th>time_4</th>\n",
       "      <th>time_5</th>\n",
       "      <th>time_6</th>\n",
       "      <th>time_7</th>\n",
       "      <th>time_8</th>\n",
       "      <th>time_9</th>\n",
       "      <th>time_10</th>\n",
       "      <th>time_11</th>\n",
       "      <th>time_12</th>\n",
       "      <th>time_13</th>\n",
       "      <th>time_14</th>\n",
       "      <th>time_15</th>\n",
       "      <th>time_16</th>\n",
       "      <th>time_17</th>\n",
       "      <th>time_18</th>\n",
       "      <th>time_19</th>\n",
       "      <th>time_20</th>\n",
       "      <th>time_21</th>\n",
       "      <th>time_22</th>\n",
       "      <th>time_23</th>\n",
       "    </tr>\n",
       "  </thead>\n",
       "  <tbody>\n",
       "    <tr>\n",
       "      <th>372</th>\n",
       "      <td>20</td>\n",
       "      <td>0</td>\n",
       "      <td>0</td>\n",
       "      <td>0</td>\n",
       "      <td>0</td>\n",
       "      <td>1</td>\n",
       "      <td>0</td>\n",
       "      <td>0</td>\n",
       "      <td>0</td>\n",
       "      <td>0</td>\n",
       "      <td>0</td>\n",
       "      <td>0</td>\n",
       "      <td>0</td>\n",
       "      <td>0</td>\n",
       "      <td>0</td>\n",
       "      <td>0</td>\n",
       "      <td>0</td>\n",
       "      <td>0</td>\n",
       "      <td>1</td>\n",
       "      <td>0</td>\n",
       "      <td>0</td>\n",
       "      <td>0</td>\n",
       "      <td>0</td>\n",
       "      <td>0</td>\n",
       "      <td>0</td>\n",
       "      <td>0</td>\n",
       "      <td>0</td>\n",
       "      <td>0</td>\n",
       "      <td>0</td>\n",
       "      <td>0</td>\n",
       "    </tr>\n",
       "  </tbody>\n",
       "</table>\n",
       "</div>"
      ],
      "text/plain": [
       "     arrive_traffic  rain-1  weekday_1  weekday_2  weekday_3  ...  time_19  time_20  time_21  time_22  time_23\n",
       "372              20       0          0          0          0  ...        0        0        0        0        0\n",
       "\n",
       "[1 rows x 30 columns]"
      ]
     },
     "execution_count": 92,
     "metadata": {},
     "output_type": "execute_result"
    }
   ],
   "source": [
    "testdf=testdf.transpose()\n",
    "testdf"
   ]
  },
  {
   "cell_type": "code",
   "execution_count": 95,
   "id": "10a44b6e",
   "metadata": {},
   "outputs": [],
   "source": [
    "txg=Xg.predict(testdf)"
   ]
  },
  {
   "cell_type": "code",
   "execution_count": 96,
   "id": "9592341a",
   "metadata": {},
   "outputs": [],
   "source": [
    "trg=Rg.predict(testdf)"
   ]
  },
  {
   "cell_type": "code",
   "execution_count": 97,
   "id": "d2efde4c",
   "metadata": {},
   "outputs": [
    {
     "data": {
      "text/plain": [
       "(array([19091.094], dtype=float32),\n",
       " array([15690.49482534]),\n",
       " array([17390.79428767]))"
      ]
     },
     "execution_count": 97,
     "metadata": {},
     "output_type": "execute_result"
    }
   ],
   "source": [
    "txg,trg,(txg+trg)/2"
   ]
  },
  {
   "cell_type": "code",
   "execution_count": null,
   "id": "b91529d1",
   "metadata": {},
   "outputs": [],
   "source": []
  }
 ],
 "metadata": {
  "kernelspec": {
   "display_name": "Python 3.8.8 ('base')",
   "language": "python",
   "name": "python3"
  },
  "language_info": {
   "codemirror_mode": {
    "name": "ipython",
    "version": 3
   },
   "file_extension": ".py",
   "mimetype": "text/x-python",
   "name": "python",
   "nbconvert_exporter": "python",
   "pygments_lexer": "ipython3",
   "version": "3.8.8"
  },
  "vscode": {
   "interpreter": {
    "hash": "6f5583cf1d9466b5c27e75c89cc6b383bed5736d6b16c51c8074d8690011a952"
   }
  }
 },
 "nbformat": 4,
 "nbformat_minor": 5
}
