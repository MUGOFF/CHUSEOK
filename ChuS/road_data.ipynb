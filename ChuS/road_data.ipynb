{
 "cells": [
  {
   "cell_type": "code",
   "execution_count": 7,
   "metadata": {},
   "outputs": [],
   "source": [
    "# import requests, json\n",
    "import pandas as pd\n",
    "import numpy as np\n",
    "import seaborn as sns\n",
    "import matplotlib.pyplot as plt\n",
    "import scipy.stats as spst\n",
    "import chardet"
   ]
  },
  {
   "cell_type": "code",
   "execution_count": 2,
   "metadata": {},
   "outputs": [],
   "source": [
    "# key = '6601299881'\n",
    "# time_url = 'http://data.ex.co.kr/openapi/odtraffic/trafficAmountByRoute'\n",
    "Busan ='140'\n",
    "Seoul ='101'\n",
    "# header =  { 'key' : key, 'type' : 'json', 'startUnitCode' : Seoul, 'endUnitCode': Busan }\n",
    "# response = requests.post(time_url, headers=header)\n",
    "# print(response)"
   ]
  },
  {
   "cell_type": "code",
   "execution_count": 29,
   "metadata": {},
   "outputs": [],
   "source": [
    "path ='TCS_11_03_02_174596.csv'\n",
    "# raw = open(path,'rb').read()\n",
    "# encoding = chardet.detect(raw)['encoding']\n",
    "data202202 = pd.read_csv(path, encoding='cp949').head()"
   ]
  },
  {
   "cell_type": "code",
   "execution_count": 17,
   "metadata": {},
   "outputs": [
    {
     "data": {
      "text/plain": [
       "2022.0"
      ]
     },
     "execution_count": 17,
     "metadata": {},
     "output_type": "execute_result"
    }
   ],
   "source": [
    "data202202.iloc[1][0]//10000"
   ]
  },
  {
   "cell_type": "code",
   "execution_count": 19,
   "metadata": {},
   "outputs": [
    {
     "data": {
      "text/plain": [
       "2.0"
      ]
     },
     "execution_count": 19,
     "metadata": {},
     "output_type": "execute_result"
    }
   ],
   "source": [
    "data202202.iloc[1][0]%10000//100"
   ]
  },
  {
   "cell_type": "code",
   "execution_count": 22,
   "metadata": {},
   "outputs": [
    {
     "data": {
      "text/plain": [
       "Index(['집계일자', '집계시', '출발영업소코드', '도착영업소코드', 'TCS차종구분코드', '통행시간', 'Unnamed: 6'], dtype='object')"
      ]
     },
     "execution_count": 22,
     "metadata": {},
     "output_type": "execute_result"
    }
   ],
   "source": [
    "data202202.columns"
   ]
  },
  {
   "cell_type": "code",
   "execution_count": 6,
   "metadata": {},
   "outputs": [],
   "source": [
    "file_list =['TCS_11_03_02_663167.csv',\n",
    "'TCS_11_03_02_687704.csv',\n",
    "'TCS_11_03_02_796533.txt',\n",
    "'TCS_11_03_02_903775.txt',\n",
    "'TCS_11_03_02_918332.csv',\n",
    "'TCS_11_03_02_174596.csv',\n",
    "'TCS_11_03_02_183629.txt',\n",
    "'TCS_11_03_02_564195.txt',\n",
    "'TCS_11_03_02_598345.csv',\n",
    "'TCS_11_03_02_621326.txt',\n",
    "'TCS_11_03_02_631488.txt']"
   ]
  },
  {
   "cell_type": "code",
   "execution_count": 41,
   "metadata": {},
   "outputs": [],
   "source": [
    "path ='TCS_11_03_02_183629.txt'\n",
    "header = ['집계일자', '집계시', '출발영업소코드', '도착영업소코드', 'TCS차종구분코드', '통행시간']\n",
    "data2022 = pd.read_csv(path, names=header, sep='|' , index_col=False) "
   ]
  },
  {
   "cell_type": "code",
   "execution_count": 42,
   "metadata": {},
   "outputs": [
    {
     "data": {
      "text/html": [
       "<div>\n",
       "<style scoped>\n",
       "    .dataframe tbody tr th:only-of-type {\n",
       "        vertical-align: middle;\n",
       "    }\n",
       "\n",
       "    .dataframe tbody tr th {\n",
       "        vertical-align: top;\n",
       "    }\n",
       "\n",
       "    .dataframe thead th {\n",
       "        text-align: right;\n",
       "    }\n",
       "</style>\n",
       "<table border=\"1\" class=\"dataframe\">\n",
       "  <thead>\n",
       "    <tr style=\"text-align: right;\">\n",
       "      <th></th>\n",
       "      <th>집계일자</th>\n",
       "      <th>집계시</th>\n",
       "      <th>출발영업소코드</th>\n",
       "      <th>도착영업소코드</th>\n",
       "      <th>TCS차종구분코드</th>\n",
       "      <th>통행시간</th>\n",
       "    </tr>\n",
       "  </thead>\n",
       "  <tbody>\n",
       "    <tr>\n",
       "      <th>0</th>\n",
       "      <td>20190201</td>\n",
       "      <td>0</td>\n",
       "      <td>0</td>\n",
       "      <td>101</td>\n",
       "      <td>1</td>\n",
       "      <td>-1</td>\n",
       "    </tr>\n",
       "    <tr>\n",
       "      <th>1</th>\n",
       "      <td>20190201</td>\n",
       "      <td>0</td>\n",
       "      <td>0</td>\n",
       "      <td>101</td>\n",
       "      <td>2</td>\n",
       "      <td>-1</td>\n",
       "    </tr>\n",
       "    <tr>\n",
       "      <th>2</th>\n",
       "      <td>20190201</td>\n",
       "      <td>0</td>\n",
       "      <td>0</td>\n",
       "      <td>101</td>\n",
       "      <td>3</td>\n",
       "      <td>-1</td>\n",
       "    </tr>\n",
       "    <tr>\n",
       "      <th>3</th>\n",
       "      <td>20190201</td>\n",
       "      <td>0</td>\n",
       "      <td>0</td>\n",
       "      <td>102</td>\n",
       "      <td>1</td>\n",
       "      <td>-1</td>\n",
       "    </tr>\n",
       "    <tr>\n",
       "      <th>4</th>\n",
       "      <td>20190201</td>\n",
       "      <td>0</td>\n",
       "      <td>0</td>\n",
       "      <td>103</td>\n",
       "      <td>1</td>\n",
       "      <td>-1</td>\n",
       "    </tr>\n",
       "  </tbody>\n",
       "</table>\n",
       "</div>"
      ],
      "text/plain": [
       "       집계일자  집계시  출발영업소코드  도착영업소코드  TCS차종구분코드  통행시간\n",
       "0  20190201    0        0      101          1    -1\n",
       "1  20190201    0        0      101          2    -1\n",
       "2  20190201    0        0      101          3    -1\n",
       "3  20190201    0        0      102          1    -1\n",
       "4  20190201    0        0      103          1    -1"
      ]
     },
     "execution_count": 42,
     "metadata": {},
     "output_type": "execute_result"
    }
   ],
   "source": [
    "data2022.head()"
   ]
  },
  {
   "cell_type": "code",
   "execution_count": 21,
   "metadata": {},
   "outputs": [
    {
     "data": {
      "text/plain": [
       "'csv'"
      ]
     },
     "execution_count": 21,
     "metadata": {},
     "output_type": "execute_result"
    }
   ],
   "source": [
    "file_list[0][-3:]"
   ]
  },
  {
   "cell_type": "code",
   "execution_count": 45,
   "metadata": {},
   "outputs": [
    {
     "name": "stdout",
     "output_type": "stream",
     "text": [
      "['data202102:TCS_11_03_02_663167.csv', 'data202009:TCS_11_03_02_687704.csv', 'data201701:TCS_11_03_02_796533.txt', 'data201809:TCS_11_03_02_903775.txt', 'data202109:TCS_11_03_02_918332.csv', 'data202202:TCS_11_03_02_174596.csv', 'data201902:TCS_11_03_02_183629.txt', 'data2017010:TCS_11_03_02_564195.txt', 'data202001:TCS_11_03_02_598345.csv', 'data201909:TCS_11_03_02_621326.txt', 'data201802:TCS_11_03_02_631488.txt']\n"
     ]
    }
   ],
   "source": [
    "name=[]\n",
    "for path in file_list:\n",
    "    if path[-3:] =='csv':\n",
    "        df = pd.read_csv(path, encoding='cp949').head()\n",
    "        year=df.iloc[1][0]//10000\n",
    "        month=df.iloc[1][0]%10000//100\n",
    "        name.append('data'+str(int(year))+'0'+str(int(month))+':' + path)\n",
    "    if path[-3:] =='txt':\n",
    "        df= pd.read_csv(path, names=header, sep='|' , index_col=False)\n",
    "        year=df.iloc[1][0]//10000\n",
    "        month=df.iloc[1][0]%10000//100\n",
    "        name.append('data'+str(int(year))+'0'+str(int(month))+':' + path)\n",
    "print(name)  "
   ]
  },
  {
   "cell_type": "code",
   "execution_count": null,
   "metadata": {},
   "outputs": [],
   "source": []
  }
 ],
 "metadata": {
  "kernelspec": {
   "display_name": "Python 3.8.8 ('base')",
   "language": "python",
   "name": "python3"
  },
  "language_info": {
   "codemirror_mode": {
    "name": "ipython",
    "version": 3
   },
   "file_extension": ".py",
   "mimetype": "text/x-python",
   "name": "python",
   "nbconvert_exporter": "python",
   "pygments_lexer": "ipython3",
   "version": "3.8.8"
  },
  "orig_nbformat": 4,
  "vscode": {
   "interpreter": {
    "hash": "6f5583cf1d9466b5c27e75c89cc6b383bed5736d6b16c51c8074d8690011a952"
   }
  }
 },
 "nbformat": 4,
 "nbformat_minor": 2
}
